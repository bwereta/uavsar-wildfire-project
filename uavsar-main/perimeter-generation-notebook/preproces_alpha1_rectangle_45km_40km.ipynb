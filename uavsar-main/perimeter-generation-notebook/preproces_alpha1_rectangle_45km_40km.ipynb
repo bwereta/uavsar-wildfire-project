{
 "cells": [
  {
   "cell_type": "code",
   "execution_count": 1,
   "id": "8b34a218-9d72-422a-a3d1-61a977fccc00",
   "metadata": {},
   "outputs": [],
   "source": [
    "import sys\n",
    "from pathlib import Path\n",
    "import matplotlib.pyplot as plt\n",
    "# Add the path to the utils folder to sys.path\n",
    "utils_path = Path('../python').resolve()\n",
    "sys.path.append(str(utils_path))\n",
    "\n",
    "\n",
    "import rasterio\n",
    "import numpy as np\n",
    "from pathlib import Path\n",
    "from process_utils import (preprocess_data,\n",
    "                           superpixel_segmentation)\n",
    "from rio_utils import (reproject_arr_to_match_profile)"
   ]
  },
  {
   "cell_type": "code",
   "execution_count": 2,
   "id": "4e9aed2c-e296-421a-8f69-ab92b3bb2420",
   "metadata": {},
   "outputs": [],
   "source": [
    "# === Load Alpha-1 Image ===\n",
    "def open_one(path):\n",
    "    with rasterio.open(path) as ds:\n",
    "        band = ds.read(1)  # Read the first band\n",
    "        profile = ds.profile\n",
    "    return band, profile"
   ]
  },
  {
   "cell_type": "code",
   "execution_count": 3,
   "id": "595f13c7-6be9-41a5-bf5f-b5a8034639b5",
   "metadata": {},
   "outputs": [
    {
     "data": {
      "text/plain": [
       "[PosixPath('/shared/Wildfire/Bety_wildfire_project/Bety_data_test/rectangle_45km_40km/pre_merged_alpha_image_rectangle.tif'),\n",
       " PosixPath('/shared/Wildfire/Bety_wildfire_project/Bety_data_test/post_rectangle_45km_40km/post_merged_alpha_image_test.tif')]"
      ]
     },
     "execution_count": 3,
     "metadata": {},
     "output_type": "execute_result"
    }
   ],
   "source": [
    "tifs = [\n",
    "    Path(\"/shared/Wildfire/Bety_wildfire_project/Bety_data_test/rectangle_45km_40km/pre_merged_alpha_image_rectangle.tif\"),\n",
    "    Path(\"/shared/Wildfire/Bety_wildfire_project/Bety_data_test/post_rectangle_45km_40km/post_merged_alpha_image_test.tif\"),\n",
    "    # Path(\"/shared/Wildfire/Bety_wildfire_project/Bety_data_test/Slope/cropped_slope_test.tif\")\n",
    "]\n",
    "tifs"
   ]
  },
  {
   "cell_type": "code",
   "execution_count": 4,
   "id": "4b18ab75-8edb-4622-b4a8-6bcfebdffb1e",
   "metadata": {},
   "outputs": [],
   "source": [
    "# Open both images\n",
    "bands, profiles = zip(*map(open_one, tifs))\n",
    "alpha_pre = bands[0]\n",
    "alpha_post = bands[1]\n",
    "profile_pre = profiles[0]\n",
    "profile_post = profiles[1]"
   ]
  },
  {
   "cell_type": "code",
   "execution_count": 5,
   "id": "fd9d778f-cdc0-41e1-b2c8-e55ab7790478",
   "metadata": {},
   "outputs": [
    {
     "name": "stdout",
     "output_type": "stream",
     "text": [
      "pre_alpha1 (5839, 7290)\n"
     ]
    }
   ],
   "source": [
    "print(\"pre_alpha1\", alpha_pre.shape)"
   ]
  },
  {
   "cell_type": "code",
   "execution_count": 6,
   "id": "363c4b80-77c6-4825-aa65-46703367ff0c",
   "metadata": {},
   "outputs": [
    {
     "name": "stdout",
     "output_type": "stream",
     "text": [
      "pre_alpha1 (5881, 7290)\n"
     ]
    }
   ],
   "source": [
    "print(\"pre_alpha1\", alpha_post.shape)"
   ]
  },
  {
   "cell_type": "markdown",
   "id": "e6a3f641-7cd7-45ad-acdd-fec4e04c5acc",
   "metadata": {},
   "source": [
    "Preprocess the image\n",
    "Applies interpolation, clipping, total-variation denoising, and background mask\n",
    "\n",
    "Parameters\n",
    "\n",
    "interpolation (bool): whether or not to perform nearest neighbor interpolation for the preprocessing\n",
    "weight (float): denoising weight. The greater the weight, the more denoising (at the expense of fidelity to image)."
   ]
  },
  {
   "cell_type": "code",
   "execution_count": 7,
   "id": "8abf0743-495d-4497-9ed2-c0b0f605be67",
   "metadata": {},
   "outputs": [],
   "source": [
    "interpolation = True\n",
    "weight = 5"
   ]
  },
  {
   "cell_type": "code",
   "execution_count": 15,
   "id": "47d3414f-c471-4754-bbf4-95901c29608c",
   "metadata": {},
   "outputs": [
    {
     "name": "stdout",
     "output_type": "stream",
     "text": [
      "Preprocessing done\n"
     ]
    }
   ],
   "source": [
    "# === Step 3: Preprocess (Interpolation, Denoising) ===\n",
    "alpha_pre = preprocess_data(alpha_pre, interpolation, weight)\n",
    "alpha_post = preprocess_data(alpha_post, interpolation, weight)\n",
    "print(\"Preprocessing done\")"
   ]
  },
  {
   "cell_type": "code",
   "execution_count": 16,
   "id": "d7e4259f-d799-4261-abc7-3652f1baa145",
   "metadata": {},
   "outputs": [],
   "source": [
    "# # Open both images\n",
    "# bands, profiles = zip(*map(open_one, tifs))\n",
    "# alpha_pre = bands[0]\n",
    "# slope = bands[1]\n",
    "# profile_pre = profiles[0]\n",
    "# profile_slope = profiles[1]"
   ]
  },
  {
   "cell_type": "code",
   "execution_count": 17,
   "id": "7da43382-2e41-4ff4-b4f6-82ff84727aa5",
   "metadata": {},
   "outputs": [
    {
     "name": "stdout",
     "output_type": "stream",
     "text": [
      "Reprojection done\n"
     ]
    }
   ],
   "source": [
    "# === Step 4: Reproject post image to match pre ===\n",
    "alpha_post, _ = reproject_arr_to_match_profile(\n",
    "    alpha_post, profile_post, profile_pre, resampling='bilinear')\n",
    "alpha_post = alpha_post[0]  # Get back to 2D\n",
    "print(\"Reprojection done\")"
   ]
  },
  {
   "cell_type": "code",
   "execution_count": 18,
   "id": "3ccd59b3-0fc8-49ad-ac0b-b88045e83232",
   "metadata": {},
   "outputs": [],
   "source": [
    "# # === Step 5: Reproject slope image to match pre ===\n",
    "# slope, _ = reproject_arr_to_match_profile(\n",
    "#     slope, profile_slope, profile_pre, resampling='bilinear')\n",
    "# slope = slope[0]  # Get back to 2D\n",
    "# print(\"Reprojection done\")"
   ]
  },
  {
   "cell_type": "code",
   "execution_count": 19,
   "id": "7d02d396-ac33-4665-92f5-51294007fa9e",
   "metadata": {},
   "outputs": [],
   "source": [
    "# print(\"slope\", slope.shape)"
   ]
  },
  {
   "cell_type": "code",
   "execution_count": 20,
   "id": "72d870d6-4091-40be-9719-174bf037c602",
   "metadata": {},
   "outputs": [],
   "source": [
    "# === Save Postfire alpha1 ===\n",
    "post_alpha1_out_path = \"/shared/Wildfire/Bety_wildfire_project/Bety_data_test/post_rectangle_45km_40km/post_merged_alpha_image_test_aligned_rectangle.npy\"\n",
    "np.save(post_alpha1_out_path, alpha_post)"
   ]
  },
  {
   "cell_type": "code",
   "execution_count": 21,
   "id": "81dbfe43-a265-467d-8ebd-cbcbc21b3315",
   "metadata": {},
   "outputs": [
    {
     "name": "stdout",
     "output_type": "stream",
     "text": [
      "pre_alpha1 (5839, 7290)\n"
     ]
    }
   ],
   "source": [
    "print(\"pre_alpha1\", alpha_post.shape)"
   ]
  },
  {
   "cell_type": "code",
   "execution_count": 22,
   "id": "48bab893-ac5c-409b-97c8-c11aca1597fe",
   "metadata": {},
   "outputs": [
    {
     "name": "stdout",
     "output_type": "stream",
     "text": [
      "pre_alpha1 (5839, 7290)\n"
     ]
    }
   ],
   "source": [
    "print(\"pre_alpha1\", alpha_pre.shape)"
   ]
  },
  {
   "cell_type": "code",
   "execution_count": null,
   "id": "10cfaa82-63fe-4bf0-bbdb-075cbbcc2286",
   "metadata": {},
   "outputs": [],
   "source": [
    "# Load the images\n",
    "alpha_pre, profile_pre = open_one(tifs[0])\n",
    "alpha_post, profile_post = open_one(tifs[1])\n",
    "\n",
    "# Display function\n",
    "def show_alpha_image(data, title):\n",
    "    plt.figure(figsize=(10, 6))\n",
    "    plt.imshow(data)\n",
    "    plt.colorbar(label=\"Alpha Value\")\n",
    "    plt.title(title)\n",
    "    # plt.axis(\"off\")\n",
    "    plt.show()\n",
    "\n",
    "# Show the images\n",
    "show_alpha_image(alpha_pre, \"Alpha-1 Pre-Fire Image\")\n",
    "show_alpha_image(alpha_post, \"Alpha-1 Post-Fire Image\")"
   ]
  },
  {
   "cell_type": "code",
   "execution_count": null,
   "id": "b0d993d2-c2b1-40c4-8d31-80a04f177dce",
   "metadata": {},
   "outputs": [],
   "source": [
    "\n",
    "# # Save the file\n",
    "# output_path = \"/shared/Wildfire/Bety_wildfire_project/Bety_data_test/burn_severity_data/post_merged_alpha_image_test_aligned.tif\"\n",
    "# with rasterio.open(output_path, 'w', **profile_out) as dst:\n",
    "#     dst.write(alpha_post, 1)"
   ]
  }
 ],
 "metadata": {
  "kernelspec": {
   "display_name": "Python 3 (ipykernel)",
   "language": "python",
   "name": "python3"
  },
  "language_info": {
   "codemirror_mode": {
    "name": "ipython",
    "version": 3
   },
   "file_extension": ".py",
   "mimetype": "text/x-python",
   "name": "python",
   "nbconvert_exporter": "python",
   "pygments_lexer": "ipython3",
   "version": "3.12.9"
  }
 },
 "nbformat": 4,
 "nbformat_minor": 5
}
