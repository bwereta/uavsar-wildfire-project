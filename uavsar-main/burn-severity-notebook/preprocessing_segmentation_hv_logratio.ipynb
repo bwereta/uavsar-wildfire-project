{
 "cells": [
  {
   "cell_type": "markdown",
   "id": "3e1fa014",
   "metadata": {},
   "source": [
    "# Purpose: \n",
    "- Preprocess and save the post-RTC image\n",
    "- Partition the image into multiple segments and save the label as a np.array"
   ]
  },
  {
   "cell_type": "code",
   "execution_count": 1,
   "id": "15985db4",
   "metadata": {},
   "outputs": [],
   "source": [
    "import sys\n",
    "from pathlib import Path\n",
    "\n",
    "# Add the path to the utils folder to sys.path\n",
    "utils_path = Path(\"/shared/Wildfire/Manuj_Code_Wildfire/uavsar-cads-main/python\").resolve()\n",
    "sys.path.append(str(utils_path))\n",
    "\n",
    "import rasterio\n",
    "import numpy as np\n",
    "from pathlib import Path\n",
    "from process_utils import (preprocess_data,\n",
    "                           superpixel_segmentation)\n",
    "from rio_utils import (reproject_arr_to_match_profile)\n",
    "from edit_path_utils import (edit_paths)"
   ]
  },
  {
   "cell_type": "markdown",
   "id": "9d9a1b80",
   "metadata": {},
   "source": [
    "---\n",
    "## Load the images into arrays\n",
    "\n",
    "**Parameter**:\n",
    "- `tifs` (list): a list containing the paths to the images"
   ]
  },
  {
   "cell_type": "code",
   "execution_count": 2,
   "id": "21266cf3",
   "metadata": {},
   "outputs": [],
   "source": [
    "# Opens a GeoTIFF and loads the backscatter values and profile\n",
    "def open_one(path):\n",
    "    with rasterio.open(path) as ds:\n",
    "        band = ds.read(1)\n",
    "        profile = ds.profile\n",
    "    return band, profile"
   ]
  },
  {
   "cell_type": "code",
   "execution_count": 3,
   "id": "fa2b3e93",
   "metadata": {},
   "outputs": [
    {
     "data": {
      "text/plain": [
       "[PosixPath('/shared/Wildfire/Bety_wildfire_project/Bety_data_test/Bobcat_Hv_logration_Output/before_imputed_bobcat_hv_0.tif'),\n",
       " PosixPath('/shared/Wildfire/Bety_wildfire_project/Bety_data_test/Bobcat_Hv_logration_Output/before_imputed_bobcat_hv_1.tif')]"
      ]
     },
     "execution_count": 3,
     "metadata": {},
     "output_type": "execute_result"
    }
   ],
   "source": [
    "# Path to the folder with the cropped images\n",
    "data_dir = Path(\"/shared/Wildfire/Bety_wildfire_project/Bety_data_test/Bobcat_Hv_logration_Output/\")\n",
    "tifs = sorted(list(data_dir.glob('./*before_imputed_bobcat_hv*.tif')))\n",
    "\n",
    "tifs"
   ]
  },
  {
   "cell_type": "markdown",
   "id": "81a4db59",
   "metadata": {},
   "source": [
    "---\n",
    "Open the raster images and preprocess them.\n",
    "\n",
    "Let `hv_0` and `profile_0` correspond to the pre-fire image, and `hv_1` and `profile_1` correspond to the post-fire image"
   ]
  },
  {
   "cell_type": "code",
   "execution_count": 4,
   "id": "77c48d1f",
   "metadata": {},
   "outputs": [],
   "source": [
    "# Open the tifs\n",
    "bands, profiles = zip(*map(open_one, tifs))\n",
    "hv_0 = bands[0]\n",
    "hv_1 = bands[1]\n",
    "profile_0 = profiles[0]\n",
    "profile_1 = profiles[1]"
   ]
  },
  {
   "cell_type": "markdown",
   "id": "d75a0cf0",
   "metadata": {},
   "source": [
    "---\n",
    "## Preprocess the image\n",
    "Applies interpolation, clipping, total-variation denoising, and background mask\n",
    "\n",
    "**Parameters**\n",
    "- `interpolation` (bool): whether or not to perform nearest neighbor interpolation for the preprocessing\n",
    "- `weight` (float): denoising weight. The greater the weight, the more denoising (at the expense of fidelity to image). "
   ]
  },
  {
   "cell_type": "code",
   "execution_count": 5,
   "id": "00157735",
   "metadata": {},
   "outputs": [],
   "source": [
    "interpolation = True\n",
    "weight = 5"
   ]
  },
  {
   "cell_type": "code",
   "execution_count": 6,
   "id": "a79a86f5",
   "metadata": {},
   "outputs": [
    {
     "name": "stdout",
     "output_type": "stream",
     "text": [
      "Preprocessing done\n"
     ]
    }
   ],
   "source": [
    "hv_0 = preprocess_data(hv_0, interpolation, weight)\n",
    "hv_1 = preprocess_data(hv_1, interpolation, weight)\n",
    "print(\"Preprocessing done\")"
   ]
  },
  {
   "cell_type": "markdown",
   "id": "e38df8ff",
   "metadata": {},
   "source": [
    "---\n",
    "Reprojecting the array to match the profile of pre- and post- fire images, so arithmetic could be performed"
   ]
  },
  {
   "cell_type": "code",
   "execution_count": 7,
   "id": "c9739b20",
   "metadata": {},
   "outputs": [
    {
     "name": "stdout",
     "output_type": "stream",
     "text": [
      "Reproject done\n"
     ]
    }
   ],
   "source": [
    "# reproject the later flight to match the profile of the earlier flight\n",
    "hv_1, _ = reproject_arr_to_match_profile(hv_1, profile_1, profile_0, resampling='bilinear')\n",
    "hv_1 = hv_1[0]  # getting back to 2-D\n",
    "print(\"Reproject done\")"
   ]
  },
  {
   "cell_type": "markdown",
   "id": "86e25211",
   "metadata": {},
   "source": [
    "___\n",
    "Saving the output to avoid long run-time in the future\n",
    "\n",
    "**Parameters**\n",
    "- `output_path_0` (str): output path for the processed pre-fire image [**.tif** file]\n",
    "- `output_path_1` (str): output path for the processed post-fire image [**.tif** file]"
   ]
  },
  {
   "cell_type": "code",
   "execution_count": 8,
   "id": "f54e837c",
   "metadata": {},
   "outputs": [],
   "source": [
    "output_path_0 = \"/shared/Wildfire/Bety_wildfire_project/Bety_A_S_code/wildfire_HV_logratio/data_output_HV_logratio/before_imputed_hv_0_preprocessed_interpolated.tif\"\n",
    "output_path_1 = \"/shared/Wildfire/Bety_wildfire_project/Bety_A_S_code/wildfire_HV_logratio/data_output_HV_logratio/before_imputed_hv_1_preprocessed_interpolated.tif\""
   ]
  },
  {
   "cell_type": "code",
   "execution_count": 9,
   "id": "86d24b63",
   "metadata": {},
   "outputs": [],
   "source": [
    "with rasterio.open(output_path_0, \"w\", **profile_0) as dest:\n",
    "    dest.write(hv_0, 1)\n",
    "with rasterio.open(output_path_1, \"w\", **profile_0) as dest:\n",
    "    dest.write(hv_1, 1)"
   ]
  },
  {
   "cell_type": "markdown",
   "id": "52563928",
   "metadata": {},
   "source": [
    "___ \n",
    "## Superpixel Segmentation\n",
    "Performs superpixel segmentation using [Felzenszwalb's algorithm](https://scikit-image.org/docs/stable/api/skimage.segmentation.html#skimage.segmentation.felzenszwalb) implemented by scikit-image to partition each image into multiple segments. The run time depends on the size of the images (~5-30mins)\n",
    "\n",
    "**Parameters**\n",
    "- `min_size` (int): minimum component size for Felzenszwalb's algorithm. Enforced using postprocessing. Check the hyperlink about scikit-learn implementation for more information\n",
    "- `superpixel_out_path` (str): output path for the superpixel label as np.array. [**.npy**]"
   ]
  },
  {
   "cell_type": "code",
   "execution_count": null,
   "id": "191dafa5",
   "metadata": {},
   "outputs": [],
   "source": [
    "superpixel_labels = superpixel_segmentation(hv_0,hv_1, min_size=10000)\n",
    "print(\"Superpixel done\")\n",
    "print(superpixel_labels)"
   ]
  },
  {
   "cell_type": "code",
   "execution_count": null,
   "id": "e87b784d-c0d0-43f7-ae50-0c0d2aab91cf",
   "metadata": {},
   "outputs": [],
   "source": [
    "# superpixel_labels = superpixel_segmentation(hv_0, hv_1, min_size=100)\n",
    "# print(\"Superpixel done\")"
   ]
  },
  {
   "cell_type": "code",
   "execution_count": null,
   "id": "095093ce-df26-49da-84f7-d9d282ed7586",
   "metadata": {},
   "outputs": [],
   "source": [
    "import matplotlib.pyplot as plt\n",
    "\n",
    "# Assuming superpixel_labels is a 2D array (like from skimage.segmentation.slic or similar)\n",
    "plt.figure(figsize=(8, 8))\n",
    "plt.imshow(superpixel_labels)  # 'nipy_spectral' helps visualize different segments\n",
    "plt.title('Superpixel Segmentation Labels Pre Bobcat Min_size  = 10000')\n",
    "plt.show()\n"
   ]
  },
  {
   "cell_type": "code",
   "execution_count": null,
   "id": "15eadbb2-3310-4e8d-8c89-c1c4ea11d84f",
   "metadata": {},
   "outputs": [],
   "source": [
    "from skimage.segmentation import find_boundaries\n",
    "\n",
    "# Create a binary boundary map\n",
    "boundary_mask = find_boundaries(superpixel_labels)\n",
    "\n",
    "plt.figure(figsize=(8, 8))\n",
    "plt.imshow(boundary_mask)\n",
    "plt.title('Superpixel Boundaries (Mask) Min_size = 10000')\n",
    "plt.axis\n",
    "plt.show()\n"
   ]
  },
  {
   "cell_type": "code",
   "execution_count": null,
   "id": "940bd297-6316-48ea-8e5b-df752f822453",
   "metadata": {},
   "outputs": [],
   "source": [
    "superpixel_out_path = \"/shared/Wildfire/Bety_wildfire_project/Bety_A_S_code/wildfire_HV_logratio/data_output_HV_logratio/superpixel_labels_230727_231017_min10000.npy\""
   ]
  },
  {
   "cell_type": "code",
   "execution_count": null,
   "id": "ec97b8f7-5b7f-4c6b-993a-3a53fd369f82",
   "metadata": {},
   "outputs": [],
   "source": [
    "np.save(superpixel_out_path, superpixel_labels)"
   ]
  },
  {
   "cell_type": "code",
   "execution_count": null,
   "id": "6aa691a4-0461-426f-96c4-17ba55580b21",
   "metadata": {},
   "outputs": [],
   "source": []
  }
 ],
 "metadata": {
  "kernelspec": {
   "display_name": "Python 3 (ipykernel)",
   "language": "python",
   "name": "python3"
  },
  "language_info": {
   "codemirror_mode": {
    "name": "ipython",
    "version": 3
   },
   "file_extension": ".py",
   "mimetype": "text/x-python",
   "name": "python",
   "nbconvert_exporter": "python",
   "pygments_lexer": "ipython3",
   "version": "3.12.9"
  }
 },
 "nbformat": 4,
 "nbformat_minor": 5
}
